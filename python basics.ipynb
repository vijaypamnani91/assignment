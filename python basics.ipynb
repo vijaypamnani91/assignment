{
 "cells": [
  {
   "cell_type": "code",
   "execution_count": 75,
   "id": "0cf6f29c-f373-4ef2-8fb6-1bf70dfabe61",
   "metadata": {},
   "outputs": [
    {
     "name": "stdout",
     "output_type": "stream",
     "text": [
      "hello world\n"
     ]
    }
   ],
   "source": [
    "print (\"hello world\")"
   ]
  },
  {
   "cell_type": "code",
   "execution_count": 76,
   "id": "aeafef49-5c4c-438e-ba6e-82c9ef33f996",
   "metadata": {},
   "outputs": [
    {
     "data": {
      "text/plain": [
       "5"
      ]
     },
     "execution_count": 76,
     "metadata": {},
     "output_type": "execute_result"
    }
   ],
   "source": [
    "3+2"
   ]
  },
  {
   "cell_type": "code",
   "execution_count": 77,
   "id": "9d77a36f-fedb-49fe-9b7b-014ca9d08751",
   "metadata": {},
   "outputs": [
    {
     "data": {
      "text/plain": [
       "10"
      ]
     },
     "execution_count": 77,
     "metadata": {},
     "output_type": "execute_result"
    }
   ],
   "source": [
    "2*5"
   ]
  },
  {
   "cell_type": "code",
   "execution_count": 78,
   "id": "31288083-daea-4d37-851f-b5f37fdef43e",
   "metadata": {},
   "outputs": [],
   "source": [
    "a=40"
   ]
  },
  {
   "cell_type": "code",
   "execution_count": 79,
   "id": "b49f2657-5be9-465c-86b8-f0729c3c7ec7",
   "metadata": {},
   "outputs": [],
   "source": [
    "b=30"
   ]
  },
  {
   "cell_type": "code",
   "execution_count": 80,
   "id": "18de049b-e4d1-46ab-8502-213427983735",
   "metadata": {},
   "outputs": [
    {
     "data": {
      "text/plain": [
       "70"
      ]
     },
     "execution_count": 80,
     "metadata": {},
     "output_type": "execute_result"
    }
   ],
   "source": [
    "a+b"
   ]
  },
  {
   "cell_type": "code",
   "execution_count": 81,
   "id": "3646ec3e-778e-4f77-8b81-03f386ab70a0",
   "metadata": {},
   "outputs": [
    {
     "data": {
      "text/plain": [
       "int"
      ]
     },
     "execution_count": 81,
     "metadata": {},
     "output_type": "execute_result"
    }
   ],
   "source": [
    "type(a)"
   ]
  },
  {
   "cell_type": "code",
   "execution_count": 82,
   "id": "bc08920c-d993-4270-a538-47878385c813",
   "metadata": {},
   "outputs": [],
   "source": [
    "L = [1,23,23.52,True,\"VIjay\"]"
   ]
  },
  {
   "cell_type": "code",
   "execution_count": 83,
   "id": "386087ac-5eb8-40a2-810d-9d477f182242",
   "metadata": {},
   "outputs": [
    {
     "data": {
      "text/plain": [
       "list"
      ]
     },
     "execution_count": 83,
     "metadata": {},
     "output_type": "execute_result"
    }
   ],
   "source": [
    "type(L)"
   ]
  },
  {
   "cell_type": "code",
   "execution_count": 84,
   "id": "d8378856-acbd-4093-8e28-1569f2e1bda2",
   "metadata": {},
   "outputs": [
    {
     "data": {
      "text/plain": [
       "23.52"
      ]
     },
     "execution_count": 84,
     "metadata": {},
     "output_type": "execute_result"
    }
   ],
   "source": [
    "L[2]"
   ]
  },
  {
   "cell_type": "code",
   "execution_count": 85,
   "id": "950c562c-564e-4f55-910a-f498ac88e21d",
   "metadata": {},
   "outputs": [
    {
     "data": {
      "text/plain": [
       "'VIjay'"
      ]
     },
     "execution_count": 85,
     "metadata": {},
     "output_type": "execute_result"
    }
   ],
   "source": [
    "L[4]"
   ]
  },
  {
   "cell_type": "code",
   "execution_count": 86,
   "id": "6fe7b3fd-7913-4261-a37a-1703dd4730b9",
   "metadata": {},
   "outputs": [
    {
     "data": {
      "text/plain": [
       "[1, 23, 23.52]"
      ]
     },
     "execution_count": 86,
     "metadata": {},
     "output_type": "execute_result"
    }
   ],
   "source": [
    "L[0:3]"
   ]
  },
  {
   "cell_type": "code",
   "execution_count": 87,
   "id": "1851b541-e35a-49b5-b7aa-aad90d9fc41f",
   "metadata": {},
   "outputs": [
    {
     "data": {
      "text/plain": [
       "'VIjay'"
      ]
     },
     "execution_count": 87,
     "metadata": {},
     "output_type": "execute_result"
    }
   ],
   "source": [
    "L[-1]"
   ]
  },
  {
   "cell_type": "code",
   "execution_count": 88,
   "id": "00a2b8f1-6021-4b91-a439-c5f9f839297e",
   "metadata": {},
   "outputs": [
    {
     "data": {
      "text/plain": [
       "['VIjay', True, 23.52, 23, 1]"
      ]
     },
     "execution_count": 88,
     "metadata": {},
     "output_type": "execute_result"
    }
   ],
   "source": [
    "L[::-1]"
   ]
  },
  {
   "cell_type": "code",
   "execution_count": 89,
   "id": "ffcf1d66-82df-4d5b-b140-c10fce176e53",
   "metadata": {},
   "outputs": [
    {
     "data": {
      "text/plain": [
       "[1, 23.52, 'VIjay']"
      ]
     },
     "execution_count": 89,
     "metadata": {},
     "output_type": "execute_result"
    }
   ],
   "source": [
    "L[::2]"
   ]
  },
  {
   "cell_type": "code",
   "execution_count": 90,
   "id": "250523ab-bc13-44b3-af6b-ead9086c7527",
   "metadata": {},
   "outputs": [
    {
     "data": {
      "text/plain": [
       "[23, 23.52, True]"
      ]
     },
     "execution_count": 90,
     "metadata": {},
     "output_type": "execute_result"
    }
   ],
   "source": [
    "L[1:4]"
   ]
  },
  {
   "cell_type": "code",
   "execution_count": 91,
   "id": "cfc7da67-43e1-461c-a431-59b889ceb432",
   "metadata": {},
   "outputs": [
    {
     "data": {
      "text/plain": [
       "[1, 23.52, 'VIjay']"
      ]
     },
     "execution_count": 91,
     "metadata": {},
     "output_type": "execute_result"
    }
   ],
   "source": [
    "L[::2]"
   ]
  },
  {
   "cell_type": "code",
   "execution_count": 92,
   "id": "46e95212-c8a5-4924-aa28-e0edbe57f0cc",
   "metadata": {},
   "outputs": [],
   "source": [
    "s = \"pwskill\""
   ]
  },
  {
   "cell_type": "code",
   "execution_count": 93,
   "id": "678829a2-fac7-4600-8397-fd1595e64233",
   "metadata": {},
   "outputs": [
    {
     "data": {
      "text/plain": [
       "['p', 'w', 's', 'k', 'i', 'l', 'l', 1, 23, 23.52, True, 'VIjay']"
      ]
     },
     "execution_count": 93,
     "metadata": {},
     "output_type": "execute_result"
    }
   ],
   "source": [
    "list(s)+ L"
   ]
  },
  {
   "cell_type": "code",
   "execution_count": 94,
   "id": "302e0299-7845-4047-bbf3-c69bc87d1996",
   "metadata": {},
   "outputs": [
    {
     "data": {
      "text/plain": [
       "[1, 23, 23.52, True, 'VIjay']"
      ]
     },
     "execution_count": 94,
     "metadata": {},
     "output_type": "execute_result"
    }
   ],
   "source": [
    "L"
   ]
  },
  {
   "cell_type": "code",
   "execution_count": 95,
   "id": "41c6d3a3-d8b1-4bb8-982c-730d094f2cee",
   "metadata": {},
   "outputs": [
    {
     "data": {
      "text/plain": [
       "'VIjay'"
      ]
     },
     "execution_count": 95,
     "metadata": {},
     "output_type": "execute_result"
    }
   ],
   "source": [
    "L[4]"
   ]
  },
  {
   "cell_type": "code",
   "execution_count": 96,
   "id": "0d1f882d-0e7b-4916-aa4c-0825e54e2b59",
   "metadata": {},
   "outputs": [
    {
     "data": {
      "text/plain": [
       "'VI'"
      ]
     },
     "execution_count": 96,
     "metadata": {},
     "output_type": "execute_result"
    }
   ],
   "source": [
    "L[4][0:2]"
   ]
  },
  {
   "cell_type": "code",
   "execution_count": 97,
   "id": "5837db7d-9b35-4450-95d0-9d7d7a121226",
   "metadata": {},
   "outputs": [
    {
     "data": {
      "text/plain": [
       "True"
      ]
     },
     "execution_count": 97,
     "metadata": {},
     "output_type": "execute_result"
    }
   ],
   "source": [
    "L[3]"
   ]
  },
  {
   "cell_type": "code",
   "execution_count": 98,
   "id": "0e5ef2f1-c4eb-49d2-bffa-be4633a950b6",
   "metadata": {},
   "outputs": [
    {
     "data": {
      "text/plain": [
       "'Tr'"
      ]
     },
     "execution_count": 98,
     "metadata": {},
     "output_type": "execute_result"
    }
   ],
   "source": [
    "str(L[3])[0:2]"
   ]
  },
  {
   "cell_type": "code",
   "execution_count": 99,
   "id": "54a6df8b-4bde-4bed-b751-1c58f60977c2",
   "metadata": {},
   "outputs": [],
   "source": [
    "L1 = [25,\"ABC\",32.56]"
   ]
  },
  {
   "cell_type": "code",
   "execution_count": 100,
   "id": "64f7b17a-41bd-417b-87c4-c8898e694e61",
   "metadata": {},
   "outputs": [
    {
     "data": {
      "text/plain": [
       "[1, 23, 23.52, True, 'VIjay', 25, 'ABC', 32.56]"
      ]
     },
     "execution_count": 100,
     "metadata": {},
     "output_type": "execute_result"
    }
   ],
   "source": [
    "L + L1"
   ]
  },
  {
   "cell_type": "code",
   "execution_count": 101,
   "id": "deccdac8-4611-4d86-94e3-64f61c873ce5",
   "metadata": {},
   "outputs": [
    {
     "data": {
      "text/plain": [
       "[25, 'ABC', 32.56, 25, 'ABC', 32.56, 25, 'ABC', 32.56]"
      ]
     },
     "execution_count": 101,
     "metadata": {},
     "output_type": "execute_result"
    }
   ],
   "source": [
    "L1 * 3"
   ]
  },
  {
   "cell_type": "code",
   "execution_count": 102,
   "id": "01ca583e-6a65-4c30-bb98-9984aa9c6601",
   "metadata": {},
   "outputs": [
    {
     "data": {
      "text/plain": [
       "5"
      ]
     },
     "execution_count": 102,
     "metadata": {},
     "output_type": "execute_result"
    }
   ],
   "source": [
    "len(L)"
   ]
  },
  {
   "cell_type": "code",
   "execution_count": 103,
   "id": "19ecdaff-8572-4f80-8c61-10ccd2dec420",
   "metadata": {},
   "outputs": [],
   "source": [
    "L.append(5)"
   ]
  },
  {
   "cell_type": "code",
   "execution_count": 104,
   "id": "f04cfbbe-6529-4a3a-a591-6ac1b5f1d02f",
   "metadata": {},
   "outputs": [
    {
     "data": {
      "text/plain": [
       "[1, 23, 23.52, True, 'VIjay', 5]"
      ]
     },
     "execution_count": 104,
     "metadata": {},
     "output_type": "execute_result"
    }
   ],
   "source": [
    "L"
   ]
  },
  {
   "cell_type": "code",
   "execution_count": 105,
   "id": "d3742221-5dc3-49e9-b3ba-2a62d1163004",
   "metadata": {},
   "outputs": [
    {
     "data": {
      "text/plain": [
       "'pwskill'"
      ]
     },
     "execution_count": 105,
     "metadata": {},
     "output_type": "execute_result"
    }
   ],
   "source": [
    "s"
   ]
  },
  {
   "cell_type": "code",
   "execution_count": 106,
   "id": "618a51f7-f225-40d9-8949-db8b6bf3768e",
   "metadata": {},
   "outputs": [],
   "source": [
    "L.append(s)"
   ]
  },
  {
   "cell_type": "code",
   "execution_count": 107,
   "id": "6bf01f94-826f-47d5-b82f-f48d8f8bfa88",
   "metadata": {},
   "outputs": [
    {
     "data": {
      "text/plain": [
       "[1, 23, 23.52, True, 'VIjay', 5, 'pwskill']"
      ]
     },
     "execution_count": 107,
     "metadata": {},
     "output_type": "execute_result"
    }
   ],
   "source": [
    "L"
   ]
  },
  {
   "cell_type": "code",
   "execution_count": 108,
   "id": "4208d09d-5b4a-40fd-ade5-1a1dfe4bf59e",
   "metadata": {},
   "outputs": [],
   "source": [
    "L.append(L1)"
   ]
  },
  {
   "cell_type": "code",
   "execution_count": 109,
   "id": "d527e4fc-bc91-4238-8c8d-bc28e35a9019",
   "metadata": {},
   "outputs": [
    {
     "data": {
      "text/plain": [
       "[1, 23, 23.52, True, 'VIjay', 5, 'pwskill', [25, 'ABC', 32.56]]"
      ]
     },
     "execution_count": 109,
     "metadata": {},
     "output_type": "execute_result"
    }
   ],
   "source": [
    "L"
   ]
  },
  {
   "cell_type": "code",
   "execution_count": 110,
   "id": "47995596-ca29-40c6-bcb0-ebad9f1c19d1",
   "metadata": {},
   "outputs": [
    {
     "data": {
      "text/plain": [
       "'ABC'"
      ]
     },
     "execution_count": 110,
     "metadata": {},
     "output_type": "execute_result"
    }
   ],
   "source": [
    "L[-1][1]"
   ]
  },
  {
   "cell_type": "code",
   "execution_count": 111,
   "id": "a3cca6c5-3dab-42d1-85c3-b3cd27f24e35",
   "metadata": {},
   "outputs": [
    {
     "data": {
      "text/plain": [
       "[1, 23, 23.52, True, 'VIjay', 5, 'pwskill', [25, 'ABC', 32.56]]"
      ]
     },
     "execution_count": 111,
     "metadata": {},
     "output_type": "execute_result"
    }
   ],
   "source": [
    "L"
   ]
  },
  {
   "cell_type": "code",
   "execution_count": 112,
   "id": "1c880708-fad9-4313-96f9-c47b93b2c5f6",
   "metadata": {},
   "outputs": [
    {
     "ename": "TypeError",
     "evalue": "'int' object is not iterable",
     "output_type": "error",
     "traceback": [
      "\u001b[0;31m---------------------------------------------------------------------------\u001b[0m",
      "\u001b[0;31mTypeError\u001b[0m                                 Traceback (most recent call last)",
      "Cell \u001b[0;32mIn[112], line 1\u001b[0m\n\u001b[0;32m----> 1\u001b[0m \u001b[43mL\u001b[49m\u001b[38;5;241;43m.\u001b[39;49m\u001b[43mextend\u001b[49m\u001b[43m(\u001b[49m\u001b[38;5;241;43m4\u001b[39;49m\u001b[43m)\u001b[49m\n",
      "\u001b[0;31mTypeError\u001b[0m: 'int' object is not iterable"
     ]
    }
   ],
   "source": [
    "L.extend(4)"
   ]
  },
  {
   "cell_type": "code",
   "execution_count": null,
   "id": "e1162f09-261c-47ad-8c6e-945d4c3dadf0",
   "metadata": {},
   "outputs": [],
   "source": [
    "L.extend(\"Sudh\")"
   ]
  },
  {
   "cell_type": "code",
   "execution_count": null,
   "id": "11cc3919-9368-4f94-98c8-87123ac6ed3b",
   "metadata": {},
   "outputs": [],
   "source": [
    "L"
   ]
  },
  {
   "cell_type": "code",
   "execution_count": null,
   "id": "82673938-eade-4d33-816c-a12756beb874",
   "metadata": {},
   "outputs": [],
   "source": [
    "L.extend([3,4,5,\"Jay\"])"
   ]
  },
  {
   "cell_type": "code",
   "execution_count": null,
   "id": "73732299-1416-424c-87d9-3c2cfc860eea",
   "metadata": {},
   "outputs": [],
   "source": [
    "L"
   ]
  },
  {
   "cell_type": "code",
   "execution_count": null,
   "id": "13c19146-18f5-4d89-9744-2aaa7f4a0bc0",
   "metadata": {},
   "outputs": [],
   "source": [
    "L1.insert(1,\"Vijay\")"
   ]
  },
  {
   "cell_type": "code",
   "execution_count": null,
   "id": "0849ec52-f762-4cdc-8ac7-0c8c302d7fc2",
   "metadata": {},
   "outputs": [],
   "source": [
    "L1"
   ]
  },
  {
   "cell_type": "code",
   "execution_count": null,
   "id": "12e828e2-675d-431e-b34d-0e9ee1104299",
   "metadata": {},
   "outputs": [],
   "source": [
    "L"
   ]
  },
  {
   "cell_type": "code",
   "execution_count": null,
   "id": "3271ca9d-3311-42ae-b98d-2fc5f30e7508",
   "metadata": {},
   "outputs": [],
   "source": [
    "L1.insert(2,[2,3,5])"
   ]
  },
  {
   "cell_type": "code",
   "execution_count": null,
   "id": "6cd979e1-e1f6-4075-94ea-92945f845c6b",
   "metadata": {},
   "outputs": [],
   "source": [
    "L1"
   ]
  },
  {
   "cell_type": "code",
   "execution_count": null,
   "id": "af34a8a3-63c4-41cd-a595-899acf41688e",
   "metadata": {},
   "outputs": [],
   "source": [
    "L1.insert(-1,\"abc\")"
   ]
  },
  {
   "cell_type": "code",
   "execution_count": null,
   "id": "27f724d2-eb5f-4f27-bef2-4618d2829ae1",
   "metadata": {},
   "outputs": [],
   "source": [
    "L1"
   ]
  },
  {
   "cell_type": "code",
   "execution_count": null,
   "id": "f7429fe2-dcf9-4f9d-86c3-3dd538e8eaa9",
   "metadata": {},
   "outputs": [],
   "source": [
    "L1.insert(0,12)"
   ]
  },
  {
   "cell_type": "code",
   "execution_count": 113,
   "id": "dceef1f9-01cc-4ac1-89ed-86aa630856cf",
   "metadata": {},
   "outputs": [
    {
     "data": {
      "text/plain": [
       "[25, 'ABC', 32.56]"
      ]
     },
     "execution_count": 113,
     "metadata": {},
     "output_type": "execute_result"
    }
   ],
   "source": [
    "L1"
   ]
  },
  {
   "cell_type": "code",
   "execution_count": 114,
   "id": "37c1ef2c-c9f7-43ce-8114-93d583255f16",
   "metadata": {},
   "outputs": [
    {
     "data": {
      "text/plain": [
       "32.56"
      ]
     },
     "execution_count": 114,
     "metadata": {},
     "output_type": "execute_result"
    }
   ],
   "source": [
    "L1.pop()"
   ]
  },
  {
   "cell_type": "code",
   "execution_count": 115,
   "id": "71fb437a-7959-4f46-9698-4e74b33c9486",
   "metadata": {},
   "outputs": [
    {
     "data": {
      "text/plain": [
       "[25, 'ABC']"
      ]
     },
     "execution_count": 115,
     "metadata": {},
     "output_type": "execute_result"
    }
   ],
   "source": [
    "L1"
   ]
  },
  {
   "cell_type": "code",
   "execution_count": 116,
   "id": "7106d1cd-348f-4161-a3f9-4824a51fac2b",
   "metadata": {},
   "outputs": [
    {
     "data": {
      "text/plain": [
       "'ABC'"
      ]
     },
     "execution_count": 116,
     "metadata": {},
     "output_type": "execute_result"
    }
   ],
   "source": [
    "L1.pop()"
   ]
  },
  {
   "cell_type": "code",
   "execution_count": 117,
   "id": "5b141300-3645-4cd4-af9c-c15bb7439df1",
   "metadata": {},
   "outputs": [
    {
     "ename": "IndexError",
     "evalue": "pop index out of range",
     "output_type": "error",
     "traceback": [
      "\u001b[0;31m---------------------------------------------------------------------------\u001b[0m",
      "\u001b[0;31mIndexError\u001b[0m                                Traceback (most recent call last)",
      "Cell \u001b[0;32mIn[117], line 1\u001b[0m\n\u001b[0;32m----> 1\u001b[0m \u001b[43mL1\u001b[49m\u001b[38;5;241;43m.\u001b[39;49m\u001b[43mpop\u001b[49m\u001b[43m(\u001b[49m\u001b[38;5;241;43m2\u001b[39;49m\u001b[43m)\u001b[49m \u001b[38;5;66;03m#pop delete the index position data\u001b[39;00m\n",
      "\u001b[0;31mIndexError\u001b[0m: pop index out of range"
     ]
    }
   ],
   "source": [
    "L1.pop(2) #pop delete the index position data"
   ]
  },
  {
   "cell_type": "code",
   "execution_count": null,
   "id": "07103cea-d1f6-4c9e-81b7-1f2cb9a56783",
   "metadata": {},
   "outputs": [],
   "source": [
    "L1"
   ]
  },
  {
   "cell_type": "code",
   "execution_count": null,
   "id": "bd96171f-91ef-48e6-acc6-6f2d0796a5bf",
   "metadata": {},
   "outputs": [],
   "source": [
    "L1.remove(25) #remove delete the value data available in list,remove data first occurance of value"
   ]
  },
  {
   "cell_type": "code",
   "execution_count": null,
   "id": "f9ae6c32-8700-415c-86b2-a3cbd8b60531",
   "metadata": {},
   "outputs": [],
   "source": [
    "L1"
   ]
  },
  {
   "cell_type": "code",
   "execution_count": 118,
   "id": "67aadcd8-4097-4db0-adfc-dcc18ced1798",
   "metadata": {},
   "outputs": [
    {
     "ename": "IndexError",
     "evalue": "list index out of range",
     "output_type": "error",
     "traceback": [
      "\u001b[0;31m---------------------------------------------------------------------------\u001b[0m",
      "\u001b[0;31mIndexError\u001b[0m                                Traceback (most recent call last)",
      "Cell \u001b[0;32mIn[118], line 1\u001b[0m\n\u001b[0;32m----> 1\u001b[0m \u001b[43mL1\u001b[49m\u001b[43m[\u001b[49m\u001b[38;5;241;43m1\u001b[39;49m\u001b[43m]\u001b[49m\u001b[38;5;241m.\u001b[39mremove(\u001b[38;5;241m2\u001b[39m)\u001b[38;5;66;03m# remove data from list\u001b[39;00m\n",
      "\u001b[0;31mIndexError\u001b[0m: list index out of range"
     ]
    }
   ],
   "source": [
    "L1[1].remove(2)# remove data from list"
   ]
  },
  {
   "cell_type": "code",
   "execution_count": null,
   "id": "76808d63-166a-42d0-9aa0-c5967e25e301",
   "metadata": {},
   "outputs": [],
   "source": [
    "L1"
   ]
  },
  {
   "cell_type": "code",
   "execution_count": 119,
   "id": "9b199760-abe0-4f5c-91bf-beca696f72a7",
   "metadata": {},
   "outputs": [],
   "source": [
    "L.reverse() #this is permanent reverse"
   ]
  },
  {
   "cell_type": "code",
   "execution_count": 120,
   "id": "5ce4659a-0f56-4e7a-992a-1e248f9cffb2",
   "metadata": {},
   "outputs": [
    {
     "data": {
      "text/plain": [
       "[[25], 'pwskill', 5, 'VIjay', True, 23.52, 23, 1]"
      ]
     },
     "execution_count": 120,
     "metadata": {},
     "output_type": "execute_result"
    }
   ],
   "source": [
    "L"
   ]
  },
  {
   "cell_type": "code",
   "execution_count": 121,
   "id": "45213400-3c95-48e2-99a1-10a9f81dfeb4",
   "metadata": {},
   "outputs": [
    {
     "data": {
      "text/plain": [
       "[1, 23, 23.52, True, 'VIjay', 5, 'pwskill', [25]]"
      ]
     },
     "execution_count": 121,
     "metadata": {},
     "output_type": "execute_result"
    }
   ],
   "source": [
    "L[::-1] # this is temporary reverse"
   ]
  },
  {
   "cell_type": "code",
   "execution_count": 122,
   "id": "b0d27fce-0d9d-40d5-9486-633f053a10c9",
   "metadata": {},
   "outputs": [
    {
     "data": {
      "text/plain": [
       "[[25], 'pwskill', 5, 'VIjay', True, 23.52, 23, 1]"
      ]
     },
     "execution_count": 122,
     "metadata": {},
     "output_type": "execute_result"
    }
   ],
   "source": [
    "L"
   ]
  },
  {
   "cell_type": "code",
   "execution_count": 123,
   "id": "9d77f633-f68b-461d-ad90-ce84220ad959",
   "metadata": {},
   "outputs": [],
   "source": [
    "L.reverse()"
   ]
  },
  {
   "cell_type": "code",
   "execution_count": 124,
   "id": "e4987726-a6a3-42b8-bf2b-8529f8f8cc22",
   "metadata": {},
   "outputs": [
    {
     "data": {
      "text/plain": [
       "[1, 23, 23.52, True, 'VIjay', 5, 'pwskill', [25]]"
      ]
     },
     "execution_count": 124,
     "metadata": {},
     "output_type": "execute_result"
    }
   ],
   "source": [
    "L"
   ]
  },
  {
   "cell_type": "code",
   "execution_count": 125,
   "id": "dc2866c6-5c01-40b1-be21-443aec2b0b34",
   "metadata": {},
   "outputs": [],
   "source": [
    "l2 =[12,25,65,25,40,78]"
   ]
  },
  {
   "cell_type": "code",
   "execution_count": 126,
   "id": "214cc5e1-b78b-4c86-89b8-fd58fb6ceb9b",
   "metadata": {},
   "outputs": [],
   "source": [
    "l2.sort() #sorrting data in asscending order ,its only used in single data type"
   ]
  },
  {
   "cell_type": "code",
   "execution_count": 127,
   "id": "48f254f5-618b-43b6-87db-181ebb55d871",
   "metadata": {},
   "outputs": [
    {
     "data": {
      "text/plain": [
       "[12, 25, 25, 40, 65, 78]"
      ]
     },
     "execution_count": 127,
     "metadata": {},
     "output_type": "execute_result"
    }
   ],
   "source": [
    "l2"
   ]
  },
  {
   "cell_type": "code",
   "execution_count": 128,
   "id": "5c5192c4-20dc-4642-b142-95f19e6551e8",
   "metadata": {},
   "outputs": [],
   "source": [
    "l3 =[\"ab\", \"sd\", \"fv\",\"az\"]"
   ]
  },
  {
   "cell_type": "code",
   "execution_count": 129,
   "id": "18c1f089-5625-4ad0-aba2-a4a4fbb9caf5",
   "metadata": {},
   "outputs": [],
   "source": [
    "l3.sort() #sorrting data in asscending order, its only used in single data type"
   ]
  },
  {
   "cell_type": "code",
   "execution_count": 130,
   "id": "d9b830ce-58bc-4a11-9044-b344b569a1af",
   "metadata": {},
   "outputs": [
    {
     "data": {
      "text/plain": [
       "['ab', 'az', 'fv', 'sd']"
      ]
     },
     "execution_count": 130,
     "metadata": {},
     "output_type": "execute_result"
    }
   ],
   "source": [
    "l3"
   ]
  },
  {
   "cell_type": "code",
   "execution_count": 131,
   "id": "e1081024-ddf1-4c80-8ee3-d4394f587227",
   "metadata": {},
   "outputs": [],
   "source": [
    "l4= [5,85,45,69,\"jay\"]"
   ]
  },
  {
   "cell_type": "code",
   "execution_count": 132,
   "id": "46ad7272-4d50-43b9-946d-2571fa1445e5",
   "metadata": {},
   "outputs": [
    {
     "ename": "TypeError",
     "evalue": "'<' not supported between instances of 'str' and 'int'",
     "output_type": "error",
     "traceback": [
      "\u001b[0;31m---------------------------------------------------------------------------\u001b[0m",
      "\u001b[0;31mTypeError\u001b[0m                                 Traceback (most recent call last)",
      "Cell \u001b[0;32mIn[132], line 1\u001b[0m\n\u001b[0;32m----> 1\u001b[0m \u001b[43ml4\u001b[49m\u001b[38;5;241;43m.\u001b[39;49m\u001b[43msort\u001b[49m\u001b[43m(\u001b[49m\u001b[43m)\u001b[49m\u001b[38;5;66;03m# sorting only when possible when single data type\u001b[39;00m\n",
      "\u001b[0;31mTypeError\u001b[0m: '<' not supported between instances of 'str' and 'int'"
     ]
    }
   ],
   "source": [
    "l4.sort()# sorting only when possible when single data type"
   ]
  },
  {
   "cell_type": "code",
   "execution_count": 133,
   "id": "352e5289-5d2c-4702-afa3-6731785f3e82",
   "metadata": {},
   "outputs": [],
   "source": [
    "l3.sort(reverse=True)#sorting in desc order"
   ]
  },
  {
   "cell_type": "code",
   "execution_count": 134,
   "id": "0f888b7e-ca71-4737-a1da-a0f6d18749bb",
   "metadata": {},
   "outputs": [
    {
     "data": {
      "text/plain": [
       "['sd', 'fv', 'az', 'ab']"
      ]
     },
     "execution_count": 134,
     "metadata": {},
     "output_type": "execute_result"
    }
   ],
   "source": [
    "l3"
   ]
  },
  {
   "cell_type": "code",
   "execution_count": 135,
   "id": "d9f34ecf-cf18-40c8-96e2-422c0900a246",
   "metadata": {},
   "outputs": [
    {
     "data": {
      "text/plain": [
       "[5, 45, 69, 85, 'jay']"
      ]
     },
     "execution_count": 135,
     "metadata": {},
     "output_type": "execute_result"
    }
   ],
   "source": [
    "l4"
   ]
  },
  {
   "cell_type": "code",
   "execution_count": 136,
   "id": "5b787c6f-e723-42b6-b632-b0b06d934bd2",
   "metadata": {},
   "outputs": [
    {
     "data": {
      "text/plain": [
       "2"
      ]
     },
     "execution_count": 136,
     "metadata": {},
     "output_type": "execute_result"
    }
   ],
   "source": [
    "l4.index(69) # given output index position of value"
   ]
  },
  {
   "cell_type": "code",
   "execution_count": 137,
   "id": "9c64c42d-f6cf-467b-88b4-377b444e2382",
   "metadata": {},
   "outputs": [
    {
     "data": {
      "text/plain": [
       "1"
      ]
     },
     "execution_count": 137,
     "metadata": {},
     "output_type": "execute_result"
    }
   ],
   "source": [
    "l4.count(85) # given output of count of data"
   ]
  },
  {
   "cell_type": "code",
   "execution_count": 138,
   "id": "fe5f18b0-8b34-4b8d-ab37-55d84c4bf489",
   "metadata": {},
   "outputs": [],
   "source": [
    "a= \"vijay\""
   ]
  },
  {
   "cell_type": "code",
   "execution_count": 139,
   "id": "d6ea3cd4-a094-4a91-98bf-b081ddbbd052",
   "metadata": {},
   "outputs": [
    {
     "data": {
      "text/plain": [
       "'v'"
      ]
     },
     "execution_count": 139,
     "metadata": {},
     "output_type": "execute_result"
    }
   ],
   "source": [
    "a[0]"
   ]
  },
  {
   "cell_type": "code",
   "execution_count": 140,
   "id": "153e98da-f23d-41e7-b1a9-932de8fd4178",
   "metadata": {},
   "outputs": [
    {
     "ename": "TypeError",
     "evalue": "'str' object does not support item assignment",
     "output_type": "error",
     "traceback": [
      "\u001b[0;31m---------------------------------------------------------------------------\u001b[0m",
      "\u001b[0;31mTypeError\u001b[0m                                 Traceback (most recent call last)",
      "Cell \u001b[0;32mIn[140], line 1\u001b[0m\n\u001b[0;32m----> 1\u001b[0m \u001b[43ma\u001b[49m\u001b[43m[\u001b[49m\u001b[38;5;241;43m0\u001b[39;49m\u001b[43m]\u001b[49m\u001b[38;5;241m=\u001b[39m\u001b[38;5;124m\"\u001b[39m\u001b[38;5;124ml\u001b[39m\u001b[38;5;124m\"\u001b[39m \u001b[38;5;66;03m# we can not replace in string\u001b[39;00m\n",
      "\u001b[0;31mTypeError\u001b[0m: 'str' object does not support item assignment"
     ]
    }
   ],
   "source": [
    "a[0]=\"l\" # we can not replace in string"
   ]
  },
  {
   "cell_type": "code",
   "execution_count": 141,
   "id": "c58bfd5b-c8be-4b94-94c4-078761218113",
   "metadata": {},
   "outputs": [],
   "source": [
    "l4[0]=7 # we can replace value in list, list are mutable but string are not mutable"
   ]
  },
  {
   "cell_type": "code",
   "execution_count": 142,
   "id": "76547c5e-b241-4704-b3c0-572535b8f70c",
   "metadata": {},
   "outputs": [
    {
     "data": {
      "text/plain": [
       "[7, 45, 69, 85, 'jay']"
      ]
     },
     "execution_count": 142,
     "metadata": {},
     "output_type": "execute_result"
    }
   ],
   "source": [
    "l4"
   ]
  },
  {
   "cell_type": "code",
   "execution_count": 143,
   "id": "d5e42b47-1cf7-4772-ae58-b95e378ea06e",
   "metadata": {},
   "outputs": [
    {
     "data": {
      "text/plain": [
       "'aijay'"
      ]
     },
     "execution_count": 143,
     "metadata": {},
     "output_type": "execute_result"
    }
   ],
   "source": [
    "a.replace(\"v\",\"a\") # here replace function change the value in string but as new memory location"
   ]
  },
  {
   "cell_type": "code",
   "execution_count": 144,
   "id": "d1aac07f-61c4-4824-83ab-fb1cc794472e",
   "metadata": {},
   "outputs": [
    {
     "data": {
      "text/plain": [
       "'vijay'"
      ]
     },
     "execution_count": 144,
     "metadata": {},
     "output_type": "execute_result"
    }
   ],
   "source": [
    "a # here show old value in lod string variable"
   ]
  },
  {
   "cell_type": "code",
   "execution_count": 145,
   "id": "a4135bd7-0861-4198-ba1e-45f74af64c9d",
   "metadata": {},
   "outputs": [
    {
     "data": {
      "text/plain": [
       "'Vijay'"
      ]
     },
     "execution_count": 145,
     "metadata": {},
     "output_type": "execute_result"
    }
   ],
   "source": [
    "a.capitalize()"
   ]
  },
  {
   "cell_type": "code",
   "execution_count": 146,
   "id": "81869ab0-f6bb-482d-95a1-2c89929e172f",
   "metadata": {},
   "outputs": [],
   "source": [
    "t = (25,12.50,\"jay\",5j+6,\"True\",[25,45.258]) #this type of data type known as tuple"
   ]
  },
  {
   "cell_type": "code",
   "execution_count": 147,
   "id": "d1cba9e6-0df4-4960-b262-68a5c5d27bdf",
   "metadata": {},
   "outputs": [
    {
     "data": {
      "text/plain": [
       "tuple"
      ]
     },
     "execution_count": 147,
     "metadata": {},
     "output_type": "execute_result"
    }
   ],
   "source": [
    "type(t)"
   ]
  },
  {
   "cell_type": "code",
   "execution_count": 148,
   "id": "3a07258e-e4a9-4c31-a484-6d21a38ab683",
   "metadata": {},
   "outputs": [
    {
     "data": {
      "text/plain": [
       "6"
      ]
     },
     "execution_count": 148,
     "metadata": {},
     "output_type": "execute_result"
    }
   ],
   "source": [
    "len(t)"
   ]
  },
  {
   "cell_type": "code",
   "execution_count": 149,
   "id": "cd370285-67d1-4bbb-8b1e-5f568d274678",
   "metadata": {},
   "outputs": [
    {
     "data": {
      "text/plain": [
       "25"
      ]
     },
     "execution_count": 149,
     "metadata": {},
     "output_type": "execute_result"
    }
   ],
   "source": [
    "t[0]"
   ]
  },
  {
   "cell_type": "code",
   "execution_count": 150,
   "id": "826232e7-dd28-4d01-a40b-28b366e00de7",
   "metadata": {},
   "outputs": [
    {
     "data": {
      "text/plain": [
       "[25, 45.258]"
      ]
     },
     "execution_count": 150,
     "metadata": {},
     "output_type": "execute_result"
    }
   ],
   "source": [
    "t[-1]"
   ]
  },
  {
   "cell_type": "code",
   "execution_count": 151,
   "id": "6eac3dc0-e288-45dc-968b-e0e8d2ebfc9c",
   "metadata": {},
   "outputs": [
    {
     "data": {
      "text/plain": [
       "([25, 45.258], 'True', (6+5j), 'jay', 12.5, 25)"
      ]
     },
     "execution_count": 151,
     "metadata": {},
     "output_type": "execute_result"
    }
   ],
   "source": [
    "t[::-1]"
   ]
  },
  {
   "cell_type": "code",
   "execution_count": 152,
   "id": "c5f8f268-cc3d-4e9f-9427-ee9a388d6f2d",
   "metadata": {},
   "outputs": [
    {
     "data": {
      "text/plain": [
       "[12, 25, 25, 40, 65, 78]"
      ]
     },
     "execution_count": 152,
     "metadata": {},
     "output_type": "execute_result"
    }
   ],
   "source": [
    "l2"
   ]
  },
  {
   "cell_type": "code",
   "execution_count": 153,
   "id": "77316f46-ead6-4569-a6ea-5766acf5b994",
   "metadata": {},
   "outputs": [],
   "source": [
    "l2[1]=\"johny\""
   ]
  },
  {
   "cell_type": "code",
   "execution_count": 154,
   "id": "9e2d962e-8634-44b4-add4-dc5f25c67dc5",
   "metadata": {},
   "outputs": [
    {
     "data": {
      "text/plain": [
       "[12, 'johny', 25, 40, 65, 78]"
      ]
     },
     "execution_count": 154,
     "metadata": {},
     "output_type": "execute_result"
    }
   ],
   "source": [
    "l2"
   ]
  },
  {
   "cell_type": "code",
   "execution_count": 155,
   "id": "01cb1755-9df3-409e-b42d-77201fcf95a2",
   "metadata": {},
   "outputs": [
    {
     "data": {
      "text/plain": [
       "25"
      ]
     },
     "execution_count": 155,
     "metadata": {},
     "output_type": "execute_result"
    }
   ],
   "source": [
    "t[0]"
   ]
  },
  {
   "cell_type": "code",
   "execution_count": 156,
   "id": "d391e317-7fb2-4eb3-8b47-7d4b6f124b44",
   "metadata": {},
   "outputs": [
    {
     "ename": "TypeError",
     "evalue": "'tuple' object does not support item assignment",
     "output_type": "error",
     "traceback": [
      "\u001b[0;31m---------------------------------------------------------------------------\u001b[0m",
      "\u001b[0;31mTypeError\u001b[0m                                 Traceback (most recent call last)",
      "Cell \u001b[0;32mIn[156], line 1\u001b[0m\n\u001b[0;32m----> 1\u001b[0m \u001b[43mt\u001b[49m\u001b[43m[\u001b[49m\u001b[38;5;241;43m0\u001b[39;49m\u001b[43m]\u001b[49m\u001b[38;5;241m=\u001b[39m\u001b[38;5;124m\"\u001b[39m\u001b[38;5;124mom\u001b[39m\u001b[38;5;124m\"\u001b[39m \u001b[38;5;66;03m#tuple are immutable\u001b[39;00m\n",
      "\u001b[0;31mTypeError\u001b[0m: 'tuple' object does not support item assignment"
     ]
    }
   ],
   "source": [
    "t[0]=\"om\" #tuple are immutable"
   ]
  },
  {
   "cell_type": "code",
   "execution_count": 157,
   "id": "d8922a7e-3ed6-4655-8f3f-12e0ee3c3d3c",
   "metadata": {},
   "outputs": [
    {
     "data": {
      "text/plain": [
       "(25, 12.5, 'jay', (6+5j), 'True', [25, 45.258])"
      ]
     },
     "execution_count": 157,
     "metadata": {},
     "output_type": "execute_result"
    }
   ],
   "source": [
    "t"
   ]
  },
  {
   "cell_type": "code",
   "execution_count": 158,
   "id": "83d20072-a535-43d9-9f37-4dafb3c4bdf3",
   "metadata": {},
   "outputs": [
    {
     "ename": "TypeError",
     "evalue": "'tuple' object does not support item assignment",
     "output_type": "error",
     "traceback": [
      "\u001b[0;31m---------------------------------------------------------------------------\u001b[0m",
      "\u001b[0;31mTypeError\u001b[0m                                 Traceback (most recent call last)",
      "Cell \u001b[0;32mIn[158], line 1\u001b[0m\n\u001b[0;32m----> 1\u001b[0m \u001b[43mt\u001b[49m\u001b[43m[\u001b[49m\u001b[38;5;241;43m1\u001b[39;49m\u001b[43m]\u001b[49m\u001b[38;5;241m=\u001b[39m\u001b[38;5;241m45\u001b[39m \u001b[38;5;66;03m#tuple are immutable\u001b[39;00m\n",
      "\u001b[0;31mTypeError\u001b[0m: 'tuple' object does not support item assignment"
     ]
    }
   ],
   "source": [
    "t[1]=45 #tuple are immutable"
   ]
  },
  {
   "cell_type": "code",
   "execution_count": 160,
   "id": "fd816ffe-dbde-4b1d-9b0c-1dd121efb858",
   "metadata": {},
   "outputs": [],
   "source": [
    "t2=t[::-1]"
   ]
  },
  {
   "cell_type": "code",
   "execution_count": 161,
   "id": "4b60ba16-4d66-4567-91c0-fa7495ffd0d1",
   "metadata": {},
   "outputs": [
    {
     "data": {
      "text/plain": [
       "(25, 12.5, 'jay', (6+5j), 'True', [25, 45.258])"
      ]
     },
     "execution_count": 161,
     "metadata": {},
     "output_type": "execute_result"
    }
   ],
   "source": [
    "t"
   ]
  },
  {
   "cell_type": "code",
   "execution_count": 162,
   "id": "7a8a2975-fb21-4c7b-9df1-0cb3efd2dcce",
   "metadata": {},
   "outputs": [
    {
     "data": {
      "text/plain": [
       "([25, 45.258], 'True', (6+5j), 'jay', 12.5, 25)"
      ]
     },
     "execution_count": 162,
     "metadata": {},
     "output_type": "execute_result"
    }
   ],
   "source": [
    "t2"
   ]
  },
  {
   "cell_type": "code",
   "execution_count": 163,
   "id": "ff62b732-34c7-424d-96b4-a9eda708256b",
   "metadata": {},
   "outputs": [
    {
     "data": {
      "text/plain": [
       "1"
      ]
     },
     "execution_count": 163,
     "metadata": {},
     "output_type": "execute_result"
    }
   ],
   "source": [
    "t.count(25)"
   ]
  },
  {
   "cell_type": "code",
   "execution_count": 164,
   "id": "de383836-dcd5-429f-ba5d-c4aab3e90ff8",
   "metadata": {},
   "outputs": [
    {
     "data": {
      "text/plain": [
       "4"
      ]
     },
     "execution_count": 164,
     "metadata": {},
     "output_type": "execute_result"
    }
   ],
   "source": [
    "t.index(\"True\")"
   ]
  },
  {
   "cell_type": "code",
   "execution_count": 165,
   "id": "0ce86f1e-a2e1-4fdf-af07-1aa26cc5741c",
   "metadata": {},
   "outputs": [
    {
     "data": {
      "text/plain": [
       "(25, 12.5, 'jay', (6+5j), 'True', [25, 45.258])"
      ]
     },
     "execution_count": 165,
     "metadata": {},
     "output_type": "execute_result"
    }
   ],
   "source": [
    "t"
   ]
  },
  {
   "cell_type": "code",
   "execution_count": 166,
   "id": "863136fe-71e9-4932-b28b-be65d525e3fd",
   "metadata": {},
   "outputs": [],
   "source": [
    "s3 ={2,32,58,45,12,12.5,\"joy\"}"
   ]
  },
  {
   "cell_type": "code",
   "execution_count": 167,
   "id": "dfdc6181-8f15-44b0-979b-5b176224f4b9",
   "metadata": {},
   "outputs": [
    {
     "data": {
      "text/plain": [
       "set"
      ]
     },
     "execution_count": 167,
     "metadata": {},
     "output_type": "execute_result"
    }
   ],
   "source": [
    "type(s3)"
   ]
  },
  {
   "cell_type": "code",
   "execution_count": 168,
   "id": "bae17708-ea86-4183-912d-1c8e4666643b",
   "metadata": {
    "tags": []
   },
   "outputs": [
    {
     "ename": "TypeError",
     "evalue": "unhashable type: 'list'",
     "output_type": "error",
     "traceback": [
      "\u001b[0;31m---------------------------------------------------------------------------\u001b[0m",
      "\u001b[0;31mTypeError\u001b[0m                                 Traceback (most recent call last)",
      "Cell \u001b[0;32mIn[168], line 1\u001b[0m\n\u001b[0;32m----> 1\u001b[0m s4 \u001b[38;5;241m=\u001b[39m {\u001b[38;5;241m2\u001b[39m,\u001b[38;5;241m32\u001b[39m,\u001b[38;5;241m56\u001b[39m,\u001b[38;5;241m25\u001b[39m,[\u001b[38;5;241m12\u001b[39m,\u001b[38;5;241m56\u001b[39m,\u001b[38;5;241m85\u001b[39m],(\u001b[38;5;241m45\u001b[39m,\u001b[38;5;241m65\u001b[39m,\u001b[38;5;241m85\u001b[39m)} \u001b[38;5;66;03m# in set we can not use list \u001b[39;00m\n",
      "\u001b[0;31mTypeError\u001b[0m: unhashable type: 'list'"
     ]
    }
   ],
   "source": [
    "s4 = {2,32,56,25,[12,56,85],(45,65,85)} # in set we can not use list "
   ]
  },
  {
   "cell_type": "code",
   "execution_count": 169,
   "id": "ef1dd452-9ac6-4423-afa6-a7222add6fcd",
   "metadata": {},
   "outputs": [],
   "source": [
    "s4 = {24,35,87,\"kar\",(25,65,65),56} # in set we can use tuple, set contain immutable data"
   ]
  },
  {
   "cell_type": "code",
   "execution_count": 170,
   "id": "eaa0daae-5159-444a-99ac-2faf317c8fa3",
   "metadata": {},
   "outputs": [],
   "source": [
    "s5 = {2,3,2,3,3,3,3,1,1,1,3,2,2,4,4,5,5,5,5,\"Sudh\",\"sudh\"} #set are use for remove duplicate"
   ]
  },
  {
   "cell_type": "code",
   "execution_count": 171,
   "id": "781279bc-3480-4a91-b241-215ae180a12c",
   "metadata": {},
   "outputs": [
    {
     "data": {
      "text/plain": [
       "{1, 2, 3, 4, 5, 'Sudh', 'sudh'}"
      ]
     },
     "execution_count": 171,
     "metadata": {},
     "output_type": "execute_result"
    }
   ],
   "source": [
    "s5"
   ]
  },
  {
   "cell_type": "code",
   "execution_count": 172,
   "id": "39641d8f-db98-45e2-9762-8d37f392c418",
   "metadata": {},
   "outputs": [
    {
     "data": {
      "text/plain": [
       "{(25, 65, 65), 24, 35, 56, 87, 'kar'}"
      ]
     },
     "execution_count": 172,
     "metadata": {},
     "output_type": "execute_result"
    }
   ],
   "source": [
    "s4"
   ]
  },
  {
   "cell_type": "code",
   "execution_count": 173,
   "id": "26af634f-5157-40d9-afcf-b6b2d9402f04",
   "metadata": {},
   "outputs": [],
   "source": [
    "l6 = [22,33,44,55,33,44,22,55]"
   ]
  },
  {
   "cell_type": "code",
   "execution_count": 174,
   "id": "d4a2f458-e0cd-4e0d-96ec-2201ca1b5984",
   "metadata": {},
   "outputs": [],
   "source": [
    "n_l6 = set(l6)"
   ]
  },
  {
   "cell_type": "code",
   "execution_count": 175,
   "id": "cd28d6d2-acf6-4453-a467-b1527236995a",
   "metadata": {},
   "outputs": [
    {
     "data": {
      "text/plain": [
       "set()"
      ]
     },
     "execution_count": 175,
     "metadata": {},
     "output_type": "execute_result"
    }
   ],
   "source": [
    "s4.intersection(s5)"
   ]
  },
  {
   "cell_type": "code",
   "execution_count": 176,
   "id": "f24b7ec9-df09-4181-b048-6962f995006b",
   "metadata": {},
   "outputs": [
    {
     "data": {
      "text/plain": [
       "{(25, 65, 65), 24, 35, 56, 87, 'kar'}"
      ]
     },
     "execution_count": 176,
     "metadata": {},
     "output_type": "execute_result"
    }
   ],
   "source": [
    "s4"
   ]
  },
  {
   "cell_type": "code",
   "execution_count": 177,
   "id": "5ac25fbd-5395-4cbe-bcac-343d2a6f6f00",
   "metadata": {},
   "outputs": [
    {
     "data": {
      "text/plain": [
       "[22, 33, 44, 55, 33, 44, 22, 55]"
      ]
     },
     "execution_count": 177,
     "metadata": {},
     "output_type": "execute_result"
    }
   ],
   "source": [
    "l6"
   ]
  },
  {
   "cell_type": "code",
   "execution_count": 178,
   "id": "2ef7e552-d368-4ce3-998e-c1d40ee3e2af",
   "metadata": {},
   "outputs": [],
   "source": [
    "l6.sort()"
   ]
  },
  {
   "cell_type": "code",
   "execution_count": 179,
   "id": "f89522b0-99da-471c-8b73-e3c6951dfa73",
   "metadata": {},
   "outputs": [
    {
     "data": {
      "text/plain": [
       "[22, 22, 33, 33, 44, 44, 55, 55]"
      ]
     },
     "execution_count": 179,
     "metadata": {},
     "output_type": "execute_result"
    }
   ],
   "source": [
    "l6"
   ]
  },
  {
   "cell_type": "code",
   "execution_count": 180,
   "id": "6c84a9bb-62fb-4a3c-9602-a0214151b6ec",
   "metadata": {},
   "outputs": [
    {
     "data": {
      "text/plain": [
       "{22, 33, 44, 55}"
      ]
     },
     "execution_count": 180,
     "metadata": {},
     "output_type": "execute_result"
    }
   ],
   "source": [
    "n_l6"
   ]
  },
  {
   "cell_type": "code",
   "execution_count": 181,
   "id": "832b3825-abe2-4838-9d06-2e4e31f1bffe",
   "metadata": {},
   "outputs": [],
   "source": [
    "l6.append(800)"
   ]
  },
  {
   "cell_type": "code",
   "execution_count": 182,
   "id": "1b287486-38c9-4e9d-b10d-0a84f4cf363a",
   "metadata": {},
   "outputs": [
    {
     "data": {
      "text/plain": [
       "[22, 22, 33, 33, 44, 44, 55, 55, 800]"
      ]
     },
     "execution_count": 182,
     "metadata": {},
     "output_type": "execute_result"
    }
   ],
   "source": [
    "l6"
   ]
  },
  {
   "cell_type": "code",
   "execution_count": 183,
   "id": "1b633c0b-01db-4481-a2f0-ba23d79047e2",
   "metadata": {},
   "outputs": [],
   "source": [
    "l6.extend(\"sss\")"
   ]
  },
  {
   "cell_type": "code",
   "execution_count": 184,
   "id": "f9985952-ca68-4300-a0ec-b5221681f38b",
   "metadata": {},
   "outputs": [
    {
     "data": {
      "text/plain": [
       "[22, 22, 33, 33, 44, 44, 55, 55, 800, 's', 's', 's']"
      ]
     },
     "execution_count": 184,
     "metadata": {},
     "output_type": "execute_result"
    }
   ],
   "source": [
    "l6"
   ]
  },
  {
   "cell_type": "code",
   "execution_count": 185,
   "id": "4de5ff0f-5452-419c-981c-ff523c9f484b",
   "metadata": {},
   "outputs": [],
   "source": [
    "l7=[45,32,52,\"sdsds\",[\"khkh\",22,85]]"
   ]
  },
  {
   "cell_type": "code",
   "execution_count": 186,
   "id": "a4e7ca97-e144-49bb-84f5-573ef57ee248",
   "metadata": {},
   "outputs": [
    {
     "data": {
      "text/plain": [
       "[45, 32, 52, 'sdsds', ['khkh', 22, 85]]"
      ]
     },
     "execution_count": 186,
     "metadata": {},
     "output_type": "execute_result"
    }
   ],
   "source": [
    "l7"
   ]
  },
  {
   "cell_type": "code",
   "execution_count": 187,
   "id": "e792ebf0-1388-4238-b774-54163306dbf9",
   "metadata": {},
   "outputs": [],
   "source": [
    "l6.extend(l7)"
   ]
  },
  {
   "cell_type": "code",
   "execution_count": 188,
   "id": "81929718-6bd4-415e-94bf-9c27f05d25d6",
   "metadata": {},
   "outputs": [
    {
     "data": {
      "text/plain": [
       "[22,\n",
       " 22,\n",
       " 33,\n",
       " 33,\n",
       " 44,\n",
       " 44,\n",
       " 55,\n",
       " 55,\n",
       " 800,\n",
       " 's',\n",
       " 's',\n",
       " 's',\n",
       " 45,\n",
       " 32,\n",
       " 52,\n",
       " 'sdsds',\n",
       " ['khkh', 22, 85]]"
      ]
     },
     "execution_count": 188,
     "metadata": {},
     "output_type": "execute_result"
    }
   ],
   "source": [
    "l6"
   ]
  },
  {
   "cell_type": "code",
   "execution_count": 189,
   "id": "9b32345f-7180-4a3f-802c-a06d51a4b726",
   "metadata": {},
   "outputs": [],
   "source": [
    "d= {}"
   ]
  },
  {
   "cell_type": "code",
   "execution_count": 190,
   "id": "70d6df5a-d22e-49b4-b446-9b7bb4a570a1",
   "metadata": {},
   "outputs": [
    {
     "data": {
      "text/plain": [
       "dict"
      ]
     },
     "execution_count": 190,
     "metadata": {},
     "output_type": "execute_result"
    }
   ],
   "source": [
    "type(d)"
   ]
  },
  {
   "cell_type": "code",
   "execution_count": 191,
   "id": "f1607c8a-664a-4898-81cb-36de1bb38f1b",
   "metadata": {},
   "outputs": [],
   "source": [
    "d1={\"key\":\"vijay\"} #dictionary means pair of Key and Value"
   ]
  },
  {
   "cell_type": "code",
   "execution_count": 192,
   "id": "bc8173d7-15c5-4f78-b0fe-7b155d070d0c",
   "metadata": {},
   "outputs": [
    {
     "data": {
      "text/plain": [
       "{'key': 'vijay'}"
      ]
     },
     "execution_count": 192,
     "metadata": {},
     "output_type": "execute_result"
    }
   ],
   "source": [
    "d1"
   ]
  },
  {
   "cell_type": "code",
   "execution_count": 193,
   "id": "f483a544-e989-48f6-a328-79345da4eadc",
   "metadata": {},
   "outputs": [],
   "source": [
    "d2 ={\"name\":\"vijay\",\"email\":\"vj@gmail.com\",\"Mob\":321313}"
   ]
  },
  {
   "cell_type": "code",
   "execution_count": 194,
   "id": "75828bc2-1010-4cde-a308-0b9897f1fdd9",
   "metadata": {},
   "outputs": [
    {
     "data": {
      "text/plain": [
       "{'name': 'vijay', 'email': 'vj@gmail.com', 'Mob': 321313}"
      ]
     },
     "execution_count": 194,
     "metadata": {},
     "output_type": "execute_result"
    }
   ],
   "source": [
    "d2"
   ]
  },
  {
   "cell_type": "code",
   "execution_count": 195,
   "id": "766258fc-b691-4871-945c-d91b6babf53c",
   "metadata": {},
   "outputs": [
    {
     "ename": "SyntaxError",
     "evalue": "invalid syntax (212673858.py, line 1)",
     "output_type": "error",
     "traceback": [
      "\u001b[0;36m  Cell \u001b[0;32mIn[195], line 1\u001b[0;36m\u001b[0m\n\u001b[0;31m    d3 ={234:\"raj\",@125:355} #we can not use special character\u001b[0m\n\u001b[0m                   ^\u001b[0m\n\u001b[0;31mSyntaxError\u001b[0m\u001b[0;31m:\u001b[0m invalid syntax\n"
     ]
    }
   ],
   "source": [
    "d3 ={234:\"raj\",@125:355} #we can not use special character"
   ]
  },
  {
   "cell_type": "code",
   "execution_count": 196,
   "id": "2329b451-4412-4b98-ac34-f5bd73d690f6",
   "metadata": {},
   "outputs": [],
   "source": [
    "d3 ={234:\"raj\",\"@125\":355,True:\"rahul\"} #if we use special character or anything used in quotes it's valid"
   ]
  },
  {
   "cell_type": "code",
   "execution_count": 197,
   "id": "22cf1ab6-044f-43f7-921e-9db7cb6a49f4",
   "metadata": {},
   "outputs": [
    {
     "data": {
      "text/plain": [
       "{234: 'raj', '@125': 355, True: 'rahul'}"
      ]
     },
     "execution_count": 197,
     "metadata": {},
     "output_type": "execute_result"
    }
   ],
   "source": [
    "d3"
   ]
  },
  {
   "cell_type": "code",
   "execution_count": 198,
   "id": "cfbec98c-ea19-4ecd-8180-fa5d9bb910f5",
   "metadata": {},
   "outputs": [
    {
     "data": {
      "text/plain": [
       "'raj'"
      ]
     },
     "execution_count": 198,
     "metadata": {},
     "output_type": "execute_result"
    }
   ],
   "source": [
    "d3[234]"
   ]
  },
  {
   "cell_type": "code",
   "execution_count": 199,
   "id": "87681433-cf5d-4277-b3e5-08f3a350c214",
   "metadata": {},
   "outputs": [
    {
     "data": {
      "text/plain": [
       "'rahul'"
      ]
     },
     "execution_count": 199,
     "metadata": {},
     "output_type": "execute_result"
    }
   ],
   "source": [
    "d3[True]"
   ]
  },
  {
   "cell_type": "code",
   "execution_count": 200,
   "id": "cb30b234-6dcc-452b-a867-e08390dc859c",
   "metadata": {},
   "outputs": [
    {
     "data": {
      "text/plain": [
       "'rahul'"
      ]
     },
     "execution_count": 200,
     "metadata": {},
     "output_type": "execute_result"
    }
   ],
   "source": [
    "d3[1]"
   ]
  },
  {
   "cell_type": "code",
   "execution_count": 201,
   "id": "c2f24cfa-8630-470f-bc0d-0c3e251e04b8",
   "metadata": {},
   "outputs": [],
   "source": [
    "d4 = {\"name\":\"Vijay\", \"mail\":\"a@gmai.\",\"name\":\"rahul\"} #here key value is repeat, so overrite the previous key"
   ]
  },
  {
   "cell_type": "code",
   "execution_count": 202,
   "id": "9e7722ae-800d-4de8-91c3-346a42159504",
   "metadata": {},
   "outputs": [
    {
     "data": {
      "text/plain": [
       "{'name': 'rahul', 'mail': 'a@gmai.'}"
      ]
     },
     "execution_count": 202,
     "metadata": {},
     "output_type": "execute_result"
    }
   ],
   "source": [
    "d4"
   ]
  },
  {
   "cell_type": "code",
   "execution_count": 203,
   "id": "3e2200a6-9e3b-434b-b2b1-a57888a34b95",
   "metadata": {},
   "outputs": [],
   "source": [
    "d5 ={\"company\":\"pwskill\",\"courses\":[\"web dev\",\"data science\",\"data analyst\"]}#we can use list in dictionary value"
   ]
  },
  {
   "cell_type": "code",
   "execution_count": 204,
   "id": "dd7c03e8-6792-4179-b881-ef7b5a638944",
   "metadata": {},
   "outputs": [
    {
     "data": {
      "text/plain": [
       "{'company': 'pwskill', 'courses': ['web dev', 'data science', 'data analyst']}"
      ]
     },
     "execution_count": 204,
     "metadata": {},
     "output_type": "execute_result"
    }
   ],
   "source": [
    "d5"
   ]
  },
  {
   "cell_type": "code",
   "execution_count": 205,
   "id": "3b7b3aed-4b47-42cc-a3bd-daaeb108f4ff",
   "metadata": {},
   "outputs": [
    {
     "data": {
      "text/plain": [
       "['web dev', 'data science', 'data analyst']"
      ]
     },
     "execution_count": 205,
     "metadata": {},
     "output_type": "execute_result"
    }
   ],
   "source": [
    "d5[\"courses\"]"
   ]
  },
  {
   "cell_type": "code",
   "execution_count": 206,
   "id": "fcbb5079-208c-4dea-8ae7-7da8b684ee74",
   "metadata": {},
   "outputs": [
    {
     "data": {
      "text/plain": [
       "'data analyst'"
      ]
     },
     "execution_count": 206,
     "metadata": {},
     "output_type": "execute_result"
    }
   ],
   "source": [
    "d5[\"courses\"][2]"
   ]
  },
  {
   "cell_type": "code",
   "execution_count": 207,
   "id": "9428a068-4138-4013-a438-5d7cc25a6dbf",
   "metadata": {},
   "outputs": [],
   "source": [
    "d6= {\"number\":[2,3,5,65,5],\"assignment\":(1,2,5,6,2),\"launch date\":{25,36,25},\"classtime\":{\"web dev\":8,\"data scinece\":9,\"java\":10,\"Data analyst\":10}} #we can use tuple in dictionary"
   ]
  },
  {
   "cell_type": "code",
   "execution_count": 208,
   "id": "f86ea45a-394d-4fa9-8533-6b8203c46f23",
   "metadata": {},
   "outputs": [
    {
     "data": {
      "text/plain": [
       "{'number': [2, 3, 5, 65, 5],\n",
       " 'assignment': (1, 2, 5, 6, 2),\n",
       " 'launch date': {25, 36},\n",
       " 'classtime': {'web dev': 8,\n",
       "  'data scinece': 9,\n",
       "  'java': 10,\n",
       "  'Data analyst': 10}}"
      ]
     },
     "execution_count": 208,
     "metadata": {},
     "output_type": "execute_result"
    }
   ],
   "source": [
    "d6"
   ]
  },
  {
   "cell_type": "code",
   "execution_count": 209,
   "id": "cb4ea5e7-3af8-430d-bd79-a23a3e323e1b",
   "metadata": {},
   "outputs": [
    {
     "data": {
      "text/plain": [
       "10"
      ]
     },
     "execution_count": 209,
     "metadata": {},
     "output_type": "execute_result"
    }
   ],
   "source": [
    "d6[\"classtime\"]['Data analyst']"
   ]
  },
  {
   "cell_type": "code",
   "execution_count": 210,
   "id": "f277596d-0d62-42b1-90ad-9feea3cbab2d",
   "metadata": {},
   "outputs": [],
   "source": [
    "d6[\"mentor\"]=[\"sudhanshu\",\"krish\",\"Arpit\",\"hyder\"] #here we add new key value pair in dict"
   ]
  },
  {
   "cell_type": "code",
   "execution_count": 211,
   "id": "5585da1f-0772-4962-9d38-e9e6f398bcc9",
   "metadata": {},
   "outputs": [
    {
     "data": {
      "text/plain": [
       "{'number': [2, 3, 5, 65, 5],\n",
       " 'assignment': (1, 2, 5, 6, 2),\n",
       " 'launch date': {25, 36},\n",
       " 'classtime': {'web dev': 8,\n",
       "  'data scinece': 9,\n",
       "  'java': 10,\n",
       "  'Data analyst': 10},\n",
       " 'mentor': ['sudhanshu', 'krish', 'Arpit', 'hyder']}"
      ]
     },
     "execution_count": 211,
     "metadata": {},
     "output_type": "execute_result"
    }
   ],
   "source": [
    "d6"
   ]
  },
  {
   "cell_type": "code",
   "execution_count": 212,
   "id": "d962290c-a98b-4361-9340-afc2c929c612",
   "metadata": {},
   "outputs": [],
   "source": [
    "del d6['number'] #delete key value and pair"
   ]
  },
  {
   "cell_type": "code",
   "execution_count": 213,
   "id": "47957631-3f8b-4b4b-b6e5-e3b251e4be6e",
   "metadata": {},
   "outputs": [
    {
     "data": {
      "text/plain": [
       "{'assignment': (1, 2, 5, 6, 2),\n",
       " 'launch date': {25, 36},\n",
       " 'classtime': {'web dev': 8,\n",
       "  'data scinece': 9,\n",
       "  'java': 10,\n",
       "  'Data analyst': 10},\n",
       " 'mentor': ['sudhanshu', 'krish', 'Arpit', 'hyder']}"
      ]
     },
     "execution_count": 213,
     "metadata": {},
     "output_type": "execute_result"
    }
   ],
   "source": [
    "d6"
   ]
  },
  {
   "cell_type": "code",
   "execution_count": 214,
   "id": "eeb6ae4f-0eea-463d-b128-c2d0fd0ee74b",
   "metadata": {},
   "outputs": [
    {
     "data": {
      "text/plain": [
       "dict_keys(['assignment', 'launch date', 'classtime', 'mentor'])"
      ]
     },
     "execution_count": 214,
     "metadata": {},
     "output_type": "execute_result"
    }
   ],
   "source": [
    "d6.keys() #show key "
   ]
  },
  {
   "cell_type": "code",
   "execution_count": 215,
   "id": "2629815f-1946-4f6c-b87c-aad328254f6b",
   "metadata": {},
   "outputs": [
    {
     "data": {
      "text/plain": [
       "['assignment', 'launch date', 'classtime', 'mentor']"
      ]
     },
     "execution_count": 215,
     "metadata": {},
     "output_type": "execute_result"
    }
   ],
   "source": [
    "list(d6.keys()) # convert key  in list"
   ]
  },
  {
   "cell_type": "code",
   "execution_count": 216,
   "id": "dbb39f3a-2bdd-4103-8852-7328b3e6fcf9",
   "metadata": {},
   "outputs": [
    {
     "data": {
      "text/plain": [
       "dict_values([(1, 2, 5, 6, 2), {25, 36}, {'web dev': 8, 'data scinece': 9, 'java': 10, 'Data analyst': 10}, ['sudhanshu', 'krish', 'Arpit', 'hyder']])"
      ]
     },
     "execution_count": 216,
     "metadata": {},
     "output_type": "execute_result"
    }
   ],
   "source": [
    "d6.values() #show values"
   ]
  },
  {
   "cell_type": "code",
   "execution_count": 217,
   "id": "f1412525-8825-41f4-a59b-d42f0c8978ef",
   "metadata": {},
   "outputs": [
    {
     "data": {
      "text/plain": [
       "((1, 2, 5, 6, 2),\n",
       " {25, 36},\n",
       " {'web dev': 8, 'data scinece': 9, 'java': 10, 'Data analyst': 10},\n",
       " ['sudhanshu', 'krish', 'Arpit', 'hyder'])"
      ]
     },
     "execution_count": 217,
     "metadata": {},
     "output_type": "execute_result"
    }
   ],
   "source": [
    "tuple(d6.values()) #convert values in to tuple"
   ]
  },
  {
   "cell_type": "code",
   "execution_count": 218,
   "id": "502bcc7d-3f77-4422-9cc2-ba95c87c1bc9",
   "metadata": {},
   "outputs": [
    {
     "data": {
      "text/plain": [
       "{'assignment': (1, 2, 5, 6, 2),\n",
       " 'launch date': {25, 36},\n",
       " 'classtime': {'web dev': 8,\n",
       "  'data scinece': 9,\n",
       "  'java': 10,\n",
       "  'Data analyst': 10},\n",
       " 'mentor': ['sudhanshu', 'krish', 'Arpit', 'hyder']}"
      ]
     },
     "execution_count": 218,
     "metadata": {},
     "output_type": "execute_result"
    }
   ],
   "source": [
    "d6"
   ]
  },
  {
   "cell_type": "code",
   "execution_count": 219,
   "id": "4feafa9a-512a-4001-98be-c3c59825760c",
   "metadata": {},
   "outputs": [
    {
     "ename": "TypeError",
     "evalue": "pop expected at least 1 argument, got 0",
     "output_type": "error",
     "traceback": [
      "\u001b[0;31m---------------------------------------------------------------------------\u001b[0m",
      "\u001b[0;31mTypeError\u001b[0m                                 Traceback (most recent call last)",
      "Cell \u001b[0;32mIn[219], line 1\u001b[0m\n\u001b[0;32m----> 1\u001b[0m \u001b[43md6\u001b[49m\u001b[38;5;241;43m.\u001b[39;49m\u001b[43mpop\u001b[49m\u001b[43m(\u001b[49m\u001b[43m)\u001b[49m \u001b[38;5;66;03m#here pop function cannot delete last item like as in list, \u001b[39;00m\n",
      "\u001b[0;31mTypeError\u001b[0m: pop expected at least 1 argument, got 0"
     ]
    }
   ],
   "source": [
    "d6.pop() #here pop function cannot delete last item like as in list, "
   ]
  },
  {
   "cell_type": "code",
   "execution_count": 220,
   "id": "d18f71b5-5541-480a-be14-feb9ec9c961a",
   "metadata": {},
   "outputs": [
    {
     "data": {
      "text/plain": [
       "(1, 2, 5, 6, 2)"
      ]
     },
     "execution_count": 220,
     "metadata": {},
     "output_type": "execute_result"
    }
   ],
   "source": [
    "d6.pop('assignment') # we have give any key in pop function than itdelete it"
   ]
  },
  {
   "cell_type": "code",
   "execution_count": 221,
   "id": "4741b8f5-c13e-4750-acdc-73d9d91feb68",
   "metadata": {},
   "outputs": [
    {
     "data": {
      "text/plain": [
       "{'launch date': {25, 36},\n",
       " 'classtime': {'web dev': 8,\n",
       "  'data scinece': 9,\n",
       "  'java': 10,\n",
       "  'Data analyst': 10},\n",
       " 'mentor': ['sudhanshu', 'krish', 'Arpit', 'hyder']}"
      ]
     },
     "execution_count": 221,
     "metadata": {},
     "output_type": "execute_result"
    }
   ],
   "source": [
    "d6"
   ]
  },
  {
   "cell_type": "code",
   "execution_count": 222,
   "id": "3312b546-2b59-4015-b3df-18afbaaeea4d",
   "metadata": {},
   "outputs": [
    {
     "name": "stdin",
     "output_type": "stream",
     "text": [
      "enter your marks 25\n"
     ]
    },
    {
     "name": "stdout",
     "output_type": "stream",
     "text": [
      "you will be part of A3 Batch\n"
     ]
    }
   ],
   "source": [
    "marks = int(input(\"enter your marks\"))\n",
    "if marks > 100 or marks < 0 :\n",
    "    print (\"invalid input\")\n",
    "elif marks >= 80 and marks <= 100:\n",
    "    print(\"you will be part of ab batch\")\n",
    "elif marks >= 60 and marks < 80:\n",
    "    print(\"you will be part of A1 batch\")\n",
    "elif marks >= 40 and marks < 60:\n",
    "    print(\"you will be part of A2 batch\")\n",
    "else:\n",
    "    print(\"you will be part of A3 Batch\")\n",
    "    "
   ]
  },
  {
   "cell_type": "code",
   "execution_count": 232,
   "id": "27a08d6d-bbc0-4a94-b2f7-6ac483784cf9",
   "metadata": {},
   "outputs": [],
   "source": [
    "O=[1,2,5,3,5,5]"
   ]
  },
  {
   "cell_type": "code",
   "execution_count": 233,
   "id": "3bfeaf70-de98-485a-8b4b-ab0a27cfca18",
   "metadata": {},
   "outputs": [
    {
     "name": "stdout",
     "output_type": "stream",
     "text": [
      "2\n",
      "3\n",
      "6\n",
      "4\n",
      "6\n",
      "6\n"
     ]
    },
    {
     "data": {
      "text/plain": [
       "[2, 3, 6, 4, 6, 6]"
      ]
     },
     "execution_count": 233,
     "metadata": {},
     "output_type": "execute_result"
    }
   ],
   "source": [
    "O1 =[] # here we are use for loop add 1 in all value and save in other list\n",
    "for i in O:\n",
    "    print(i+1)\n",
    "    O1.append(i+1)\n",
    "O1"
   ]
  },
  {
   "cell_type": "code",
   "execution_count": 234,
   "id": "c8a0bf54-7cce-4811-a6be-3c3320cc8c4b",
   "metadata": {},
   "outputs": [],
   "source": [
    "o2 = [\"sudh\",\"jay\",\"ravi\"]"
   ]
  },
  {
   "cell_type": "code",
   "execution_count": 235,
   "id": "33b8baed-7bac-43e8-82ce-3712cf619632",
   "metadata": {},
   "outputs": [
    {
     "name": "stdout",
     "output_type": "stream",
     "text": [
      "sudh\n",
      "jay\n",
      "ravi\n"
     ]
    }
   ],
   "source": [
    "o3 = [] #here we convert letter in upper case and save in other list\n",
    "for i in o2:\n",
    "    print (i)\n",
    "    o3.append(i.upper())"
   ]
  },
  {
   "cell_type": "code",
   "execution_count": 236,
   "id": "fa2f9d15-0940-4e36-ae3b-c1790283632b",
   "metadata": {},
   "outputs": [
    {
     "data": {
      "text/plain": [
       "['SUDH', 'JAY', 'RAVI']"
      ]
     },
     "execution_count": 236,
     "metadata": {},
     "output_type": "execute_result"
    }
   ],
   "source": [
    "o3"
   ]
  },
  {
   "cell_type": "code",
   "execution_count": 237,
   "id": "974c7099-05dd-42d6-9e75-3c93aac94ecd",
   "metadata": {},
   "outputs": [],
   "source": [
    "o4 = [1,2,3,4,5,6,\"sudh\",32.56,\"abc\"]"
   ]
  },
  {
   "cell_type": "code",
   "execution_count": 238,
   "id": "af67b917-6e6d-4dbe-a1a6-193172a2ef03",
   "metadata": {},
   "outputs": [],
   "source": [
    "n1 = [] #we are saprating the value of intiger and string\n",
    "s1 = []\n",
    "for i in o4:\n",
    "    if type(i) == int or type(i) == float:\n",
    "        n1.append(i)\n",
    "    else :\n",
    "        s1.append(i)"
   ]
  },
  {
   "cell_type": "code",
   "execution_count": 239,
   "id": "5f156e9b-937d-4d9b-93d5-52a8c8c39d97",
   "metadata": {},
   "outputs": [
    {
     "data": {
      "text/plain": [
       "[1, 2, 3, 4, 5, 6, 32.56]"
      ]
     },
     "execution_count": 239,
     "metadata": {},
     "output_type": "execute_result"
    }
   ],
   "source": [
    "n1"
   ]
  },
  {
   "cell_type": "code",
   "execution_count": 240,
   "id": "09029664-2a59-4b4c-b2eb-6b46a4a0a731",
   "metadata": {},
   "outputs": [
    {
     "data": {
      "text/plain": [
       "['sudh', 'abc']"
      ]
     },
     "execution_count": 240,
     "metadata": {},
     "output_type": "execute_result"
    }
   ],
   "source": [
    "s1"
   ]
  },
  {
   "cell_type": "code",
   "execution_count": null,
   "id": "c8a2e418-11cf-4e8e-9934-eafcc65c1e9e",
   "metadata": {},
   "outputs": [],
   "source": []
  }
 ],
 "metadata": {
  "kernelspec": {
   "display_name": "Python 3 (ipykernel)",
   "language": "python",
   "name": "python3"
  },
  "language_info": {
   "codemirror_mode": {
    "name": "ipython",
    "version": 3
   },
   "file_extension": ".py",
   "mimetype": "text/x-python",
   "name": "python",
   "nbconvert_exporter": "python",
   "pygments_lexer": "ipython3",
   "version": "3.10.8"
  }
 },
 "nbformat": 4,
 "nbformat_minor": 5
}
